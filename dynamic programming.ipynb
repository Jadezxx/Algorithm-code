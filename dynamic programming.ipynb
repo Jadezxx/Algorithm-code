{
 "cells": [
  {
   "cell_type": "markdown",
   "metadata": {},
   "source": [
    "### 实例一\n",
    "### 问题：最大连续和 \n",
    "### 给出一个长度为n的序列A1,A2,…,An,求最大连续和。换句话说，要求### 找到1<=i <= j<=n，使得Ai+Ai+1+..+Aj尽量大"
   ]
  },
  {
   "cell_type": "markdown",
   "metadata": {},
   "source": [
    "#### 举例 \n",
    "#### 输入: \n",
    "#### 1 -2 3 10 -4 7 2 -5 \n",
    "#### 输出： \n",
    "#### 18==( 3 10 -4 7 2 )"
   ]
  },
  {
   "cell_type": "markdown",
   "metadata": {},
   "source": [
    "#### 思路：\n",
    "#### 保证相加的子序列是一个正数，如果是一个负数的话，不管后面是正是负，加上后面那个数肯定小于那个数本身。\n",
    "#### 这样的话需要三个要素，第一：算出相加后的值，第二：要是相加后值小于0，重新设定起点，第三：比较大小的函数"
   ]
  },
  {
   "cell_type": "code",
   "execution_count": 3,
   "metadata": {
    "collapsed": true
   },
   "outputs": [
    {
     "name": "stdout",
     "output_type": "stream",
     "text": [
      "1\n",
      "1\n",
      "1\n",
      "\n",
      "\n",
      "-2\n",
      "-1\n",
      "1\n",
      "\n",
      "\n",
      "3\n",
      "3\n",
      "3\n",
      "\n",
      "\n",
      "10\n",
      "13\n",
      "13\n",
      "\n",
      "\n",
      "-4\n",
      "9\n",
      "13\n",
      "\n",
      "\n",
      "7\n",
      "16\n",
      "16\n",
      "\n",
      "\n",
      "2\n",
      "18\n",
      "18\n",
      "\n",
      "\n",
      "-5\n",
      "13\n",
      "18\n",
      "\n",
      "\n"
     ]
    },
    {
     "data": {
      "text/plain": [
       "18"
      ]
     },
     "execution_count": 3,
     "metadata": {},
     "output_type": "execute_result"
    }
   ],
   "source": [
    "import pandas as pd\n",
    "inner_list = [1,-2,3, 10, -4, 7, 2, -5]\n",
    "def maxsum(inner_list):\n",
    "    Max,temp=inner_list[0],0\n",
    "    for i in inner_list:\n",
    "        print(i)\n",
    "        if temp<0:temp=i  #更新起点\n",
    "        else:temp+=i\n",
    "        print(temp)\n",
    "        Max=max(temp,Max)\n",
    "        print(Max)\n",
    "        print('\\n')\n",
    "    return Max\n",
    "maxsum(inner_list)"
   ]
  },
  {
   "cell_type": "code",
   "execution_count": null,
   "metadata": {
    "collapsed": true
   },
   "outputs": [],
   "source": []
  }
 ],
 "metadata": {
  "anaconda-cloud": {},
  "kernelspec": {
   "display_name": "Python [default]",
   "language": "python",
   "name": "python3"
  },
  "language_info": {
   "codemirror_mode": {
    "name": "ipython",
    "version": 3
   },
   "file_extension": ".py",
   "mimetype": "text/x-python",
   "name": "python",
   "nbconvert_exporter": "python",
   "pygments_lexer": "ipython3",
   "version": "3.5.2"
  }
 },
 "nbformat": 4,
 "nbformat_minor": 1
}
